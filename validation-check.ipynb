{
 "cells": [
  {
   "cell_type": "code",
   "execution_count": 1,
   "metadata": {},
   "outputs": [],
   "source": [
    "import pandas as pd"
   ]
  },
  {
   "cell_type": "code",
   "execution_count": 3,
   "metadata": {},
   "outputs": [],
   "source": [
    "full_df = pd.read_csv(\"./data/full-grab-check.csv\")\n",
    "crawler_df = pd.read_csv(\"./tvscraper/one-month-check.csv\")"
   ]
  },
  {
   "cell_type": "code",
   "execution_count": 13,
   "metadata": {},
   "outputs": [],
   "source": [
    "combine = pd.merge(full_df, crawler_df, on='identifier', how='inner')"
   ]
  },
  {
   "cell_type": "code",
   "execution_count": 20,
   "metadata": {},
   "outputs": [
    {
     "data": {
      "text/html": [
       "<div>\n",
       "<style scoped>\n",
       "    .dataframe tbody tr th:only-of-type {\n",
       "        vertical-align: middle;\n",
       "    }\n",
       "\n",
       "    .dataframe tbody tr th {\n",
       "        vertical-align: top;\n",
       "    }\n",
       "\n",
       "    .dataframe thead th {\n",
       "        text-align: right;\n",
       "    }\n",
       "</style>\n",
       "<table border=\"1\" class=\"dataframe\">\n",
       "  <thead>\n",
       "    <tr style=\"text-align: right;\">\n",
       "      <th></th>\n",
       "      <th>identifier</th>\n",
       "    </tr>\n",
       "  </thead>\n",
       "  <tbody>\n",
       "    <tr>\n",
       "      <th>0</th>\n",
       "      <td>CSPAN2_20220205_061100_Mississippi_Governor_De...</td>\n",
       "    </tr>\n",
       "    <tr>\n",
       "      <th>1</th>\n",
       "      <td>KPIX_20220208_020000_KPIX_5_News_at_6pm</td>\n",
       "    </tr>\n",
       "    <tr>\n",
       "      <th>2</th>\n",
       "      <td>BBCNEWS_20220219_003000_The_Media_Show</td>\n",
       "    </tr>\n",
       "    <tr>\n",
       "      <th>3</th>\n",
       "      <td>RT_20220224_133000_The_Alex_Salmond_Show</td>\n",
       "    </tr>\n",
       "    <tr>\n",
       "      <th>4</th>\n",
       "      <td>RT_20220226_000000_News</td>\n",
       "    </tr>\n",
       "    <tr>\n",
       "      <th>...</th>\n",
       "      <td>...</td>\n",
       "    </tr>\n",
       "    <tr>\n",
       "      <th>3290</th>\n",
       "      <td>FOXNEWSW_20220209_000000_Jesse_Watters_Primetime</td>\n",
       "    </tr>\n",
       "    <tr>\n",
       "      <th>3291</th>\n",
       "      <td>FOXNEWSW_20220218_050000_Fox_News_at_Night_Wit...</td>\n",
       "    </tr>\n",
       "    <tr>\n",
       "      <th>3292</th>\n",
       "      <td>FOXNEWSW_20220226_150000_Cavuto_Live</td>\n",
       "    </tr>\n",
       "    <tr>\n",
       "      <th>3293</th>\n",
       "      <td>MSNBCW_20220212_010000_All_In_With_Chris_Hayes</td>\n",
       "    </tr>\n",
       "    <tr>\n",
       "      <th>3294</th>\n",
       "      <td>FOXNEWSW_20220222_060000_Tucker_Carlson_Tonight</td>\n",
       "    </tr>\n",
       "  </tbody>\n",
       "</table>\n",
       "<p>3295 rows × 1 columns</p>\n",
       "</div>"
      ],
      "text/plain": [
       "                                             identifier\n",
       "0     CSPAN2_20220205_061100_Mississippi_Governor_De...\n",
       "1               KPIX_20220208_020000_KPIX_5_News_at_6pm\n",
       "2                BBCNEWS_20220219_003000_The_Media_Show\n",
       "3              RT_20220224_133000_The_Alex_Salmond_Show\n",
       "4                               RT_20220226_000000_News\n",
       "...                                                 ...\n",
       "3290   FOXNEWSW_20220209_000000_Jesse_Watters_Primetime\n",
       "3291  FOXNEWSW_20220218_050000_Fox_News_at_Night_Wit...\n",
       "3292               FOXNEWSW_20220226_150000_Cavuto_Live\n",
       "3293     MSNBCW_20220212_010000_All_In_With_Chris_Hayes\n",
       "3294    FOXNEWSW_20220222_060000_Tucker_Carlson_Tonight\n",
       "\n",
       "[3295 rows x 1 columns]"
      ]
     },
     "execution_count": 20,
     "metadata": {},
     "output_type": "execute_result"
    }
   ],
   "source": [
    "combine"
   ]
  }
 ],
 "metadata": {
  "kernelspec": {
   "display_name": "venv",
   "language": "python",
   "name": "python3"
  },
  "language_info": {
   "codemirror_mode": {
    "name": "ipython",
    "version": 3
   },
   "file_extension": ".py",
   "mimetype": "text/x-python",
   "name": "python",
   "nbconvert_exporter": "python",
   "pygments_lexer": "ipython3",
   "version": "3.10.3"
  },
  "orig_nbformat": 4
 },
 "nbformat": 4,
 "nbformat_minor": 2
}
