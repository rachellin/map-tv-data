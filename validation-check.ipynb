{
 "cells": [
  {
   "cell_type": "code",
   "execution_count": 1,
   "metadata": {},
   "outputs": [],
   "source": [
    "import pandas as pd"
   ]
  },
  {
   "cell_type": "code",
   "execution_count": 2,
   "metadata": {},
   "outputs": [],
   "source": [
    "full_df = pd.read_csv(\"./data/full-grab-check.csv\")\n",
    "crawler_df = pd.read_csv(\"./tvscraper/one-month-check.csv\")"
   ]
  },
  {
   "cell_type": "code",
   "execution_count": 3,
   "metadata": {},
   "outputs": [],
   "source": [
    "combine = pd.merge(full_df, crawler_df, on='identifier', how='inner')"
   ]
  },
  {
   "cell_type": "code",
   "execution_count": 4,
   "metadata": {},
   "outputs": [
    {
     "data": {
      "text/html": [
       "<div>\n",
       "<style scoped>\n",
       "    .dataframe tbody tr th:only-of-type {\n",
       "        vertical-align: middle;\n",
       "    }\n",
       "\n",
       "    .dataframe tbody tr th {\n",
       "        vertical-align: top;\n",
       "    }\n",
       "\n",
       "    .dataframe thead th {\n",
       "        text-align: right;\n",
       "    }\n",
       "</style>\n",
       "<table border=\"1\" class=\"dataframe\">\n",
       "  <thead>\n",
       "    <tr style=\"text-align: right;\">\n",
       "      <th></th>\n",
       "      <th>identifier</th>\n",
       "    </tr>\n",
       "  </thead>\n",
       "  <tbody>\n",
       "    <tr>\n",
       "      <th>0</th>\n",
       "      <td>CSPAN2_20220205_061100_Mississippi_Governor_De...</td>\n",
       "    </tr>\n",
       "    <tr>\n",
       "      <th>1</th>\n",
       "      <td>KPIX_20220208_020000_KPIX_5_News_at_6pm</td>\n",
       "    </tr>\n",
       "    <tr>\n",
       "      <th>2</th>\n",
       "      <td>BBCNEWS_20220219_003000_The_Media_Show</td>\n",
       "    </tr>\n",
       "    <tr>\n",
       "      <th>3</th>\n",
       "      <td>RT_20220224_133000_The_Alex_Salmond_Show</td>\n",
       "    </tr>\n",
       "    <tr>\n",
       "      <th>4</th>\n",
       "      <td>RT_20220226_000000_News</td>\n",
       "    </tr>\n",
       "    <tr>\n",
       "      <th>...</th>\n",
       "      <td>...</td>\n",
       "    </tr>\n",
       "    <tr>\n",
       "      <th>3290</th>\n",
       "      <td>FOXNEWSW_20220209_000000_Jesse_Watters_Primetime</td>\n",
       "    </tr>\n",
       "    <tr>\n",
       "      <th>3291</th>\n",
       "      <td>FOXNEWSW_20220218_050000_Fox_News_at_Night_Wit...</td>\n",
       "    </tr>\n",
       "    <tr>\n",
       "      <th>3292</th>\n",
       "      <td>FOXNEWSW_20220226_150000_Cavuto_Live</td>\n",
       "    </tr>\n",
       "    <tr>\n",
       "      <th>3293</th>\n",
       "      <td>MSNBCW_20220212_010000_All_In_With_Chris_Hayes</td>\n",
       "    </tr>\n",
       "    <tr>\n",
       "      <th>3294</th>\n",
       "      <td>FOXNEWSW_20220222_060000_Tucker_Carlson_Tonight</td>\n",
       "    </tr>\n",
       "  </tbody>\n",
       "</table>\n",
       "<p>3295 rows × 1 columns</p>\n",
       "</div>"
      ],
      "text/plain": [
       "                                             identifier\n",
       "0     CSPAN2_20220205_061100_Mississippi_Governor_De...\n",
       "1               KPIX_20220208_020000_KPIX_5_News_at_6pm\n",
       "2                BBCNEWS_20220219_003000_The_Media_Show\n",
       "3              RT_20220224_133000_The_Alex_Salmond_Show\n",
       "4                               RT_20220226_000000_News\n",
       "...                                                 ...\n",
       "3290   FOXNEWSW_20220209_000000_Jesse_Watters_Primetime\n",
       "3291  FOXNEWSW_20220218_050000_Fox_News_at_Night_Wit...\n",
       "3292               FOXNEWSW_20220226_150000_Cavuto_Live\n",
       "3293     MSNBCW_20220212_010000_All_In_With_Chris_Hayes\n",
       "3294    FOXNEWSW_20220222_060000_Tucker_Carlson_Tonight\n",
       "\n",
       "[3295 rows x 1 columns]"
      ]
     },
     "execution_count": 4,
     "metadata": {},
     "output_type": "execute_result"
    }
   ],
   "source": [
    "combine"
   ]
  },
  {
   "cell_type": "code",
   "execution_count": 5,
   "metadata": {},
   "outputs": [],
   "source": [
    "import spacy"
   ]
  },
  {
   "cell_type": "code",
   "execution_count": 6,
   "metadata": {},
   "outputs": [],
   "source": [
    "nlp=spacy.load('en_core_web_sm')"
   ]
  },
  {
   "cell_type": "code",
   "execution_count": 7,
   "metadata": {},
   "outputs": [],
   "source": [
    "text = \"Dr. John Smith, head of psychology at the hospital, was shot on Thursday outside the club.\"\n",
    "name = \"John Smith\""
   ]
  },
  {
   "cell_type": "code",
   "execution_count": 8,
   "metadata": {},
   "outputs": [],
   "source": [
    "doc = nlp(text)"
   ]
  },
  {
   "cell_type": "code",
   "execution_count": 9,
   "metadata": {},
   "outputs": [
    {
     "data": {
      "text/plain": [
       "spacy.tokens.span.Span"
      ]
     },
     "execution_count": 9,
     "metadata": {},
     "output_type": "execute_result"
    }
   ],
   "source": [
    "type([ent for ent in nlp(text).ents][0])"
   ]
  },
  {
   "cell_type": "code",
   "execution_count": 10,
   "metadata": {},
   "outputs": [
    {
     "data": {
      "text/plain": [
       "['John Smith', 'Thursday']"
      ]
     },
     "execution_count": 10,
     "metadata": {},
     "output_type": "execute_result"
    }
   ],
   "source": [
    "text_ents = [ent.text for ent in doc.ents]\n",
    "text_ents"
   ]
  },
  {
   "cell_type": "code",
   "execution_count": 11,
   "metadata": {},
   "outputs": [
    {
     "data": {
      "text/plain": [
       "True"
      ]
     },
     "execution_count": 11,
     "metadata": {},
     "output_type": "execute_result"
    }
   ],
   "source": [
    "name in text_ents"
   ]
  },
  {
   "cell_type": "code",
   "execution_count": 12,
   "metadata": {},
   "outputs": [
    {
     "name": "stdout",
     "output_type": "stream",
     "text": [
      "False\n",
      "True\n"
     ]
    }
   ],
   "source": [
    "text = \"Dr. John Smith, head of psychology at the hospital, was shot on Thursday outside the club.\"\n",
    "names = {\n",
    "  \"Bob\": \"1293\",\n",
    "  \"John Smith\": \"1329\"\n",
    "}\n",
    "\n",
    "for key in names.keys():\n",
    "  #if \" \"+key.lower()+\" \" in text.lower():\n",
    "  transcript = text.lower()\n",
    "  name = key.lower()\n",
    "  doc = nlp(transcript)\n",
    "  transcript_ents = [ent.text for ent in doc.ents]\n",
    "  print(name in transcript_ents)"
   ]
  },
  {
   "cell_type": "code",
   "execution_count": 16,
   "metadata": {},
   "outputs": [],
   "source": [
    "from collections import defaultdict\n",
    "import csv\n",
    "\n",
    "def group_videos(file):\n",
    "  grouped_videos = defaultdict(list)  \n",
    "\n",
    "  with open(file) as csv_file:\n",
    "    csv_reader = csv.DictReader(csv_file, delimiter=',')\n",
    "    for i, row in enumerate(csv_reader):\n",
    "      grouped_videos[row[\"identifier\"]].append(row)\n",
    "\n",
    "  return grouped_videos\n",
    "\n",
    "\n",
    "def read_video_data(data_file):\n",
    "    all_data = {}\n",
    "    grouped_videos = group_videos(data_file)\n",
    "\n",
    "    for vid_count, id in enumerate(grouped_videos):\n",
    "        current_vid = {}\n",
    "        transcript = \"\"\n",
    "\n",
    "        for minute in grouped_videos[id]:\n",
    "           transcript += minute[\"text\"]\n",
    "        \n",
    "        current_vid[\"source\"] = grouped_videos[id][0][\"contributor\"]\n",
    "        current_vid[\"date\"] = grouped_videos[id][0][\"date\"]\n",
    "        current_vid[\"text\"] = transcript\n",
    "        all_data[id] = current_vid\n",
    "    \n",
    "    return all_data"
   ]
  },
  {
   "cell_type": "code",
   "execution_count": 17,
   "metadata": {},
   "outputs": [],
   "source": [
    "video_data = read_video_data(\"./data/june22-sliced.csv\")"
   ]
  },
  {
   "cell_type": "code",
   "execution_count": 18,
   "metadata": {},
   "outputs": [],
   "source": [
    "text = video_data[list(video_data.keys())[0]][\"text\"]"
   ]
  },
  {
   "cell_type": "code",
   "execution_count": 19,
   "metadata": {},
   "outputs": [
    {
     "data": {
      "text/plain": [
       "'b\"would ask me a question. the neighbor would ask me a question. they were all asking me the same questions. so i really kind of started out with file cards and tags of you know, little post-it notes on my office said what questions do i questions don\\'t need to answer that people just continually ask me. yeah, so the research you you obviously must have done for the book is immense because there\\'s so many studies and there\\'s so much data. so a lot of that i\\'m assuming you you drew on an existing research existing studies and then obviously did a lot on your own and still continue to do that. well, the one thing that i think we we started that you know, i didn\\'t expect is that the we got a lot of pushback truthfully. i got a lot of pushback from the department of education about is there an increase in shootings? and so i really felt like for the lot for us as the law enforcement agency we needed to show we needed to prove that there was an increase or disprove it and i really felt like that fell on on the fbi\\'s shoulders to resolve. so i took a tremendously\"b\"talented group of analysts and agents and we asked local law enforcement to provide to us their actual police reports from hundreds of shootings, and we pushed all that information together and released 14 years study. look i brought toys. we released a 14-year study that\\'s available online that said yeah indeed. the shootings are increasing and so that was really kind of the beginning of of us realizing i think in washington that the shootings are really increasing and we were validating that year after year after year, and i know just a couple years ago the fbi released the 20-year study that shows and when we started i\\'ll tell you this of the i have too many numbers in my head, but i\\'ll tell you that. this is a horrible number when we started. the first seven years of the study was from 2000 to 2000 and 2006 2000 to 2006. there were six incidents a year.\"b\"by the time i average six incidents here by the time i finished that 14-year study. there were 16 incidents a year by the time that i left the fbi. there was one incident every eight weeks. by the time i left live nation, there was one incident every four weeks. right now there\\'s one incident at least every week. every week there\\'s an incident every week that falls for you statisticians and analytical people in the exact same methodology that we started with when we started back in 2002 looking at the numbers. so we\\'ve gone exponentially higher last year the fbi releases these numbers every year and when i left the fbi when we did our final study, there were 17 incidents as the highest number in a year. in the last two years last three years there have been 30 30 and\"b\"40 and i can tell you the fbi hasn\\'t released its numbers for this year, but they are going to shortly and it\\'s probably going to be about 50% higher. so this problem is not going away. we have to find a way to fix it. we can\\'t manage it. we have to find a way to fix it. yeah, and so you bring up something interesting about the trends, which i do want to address. but but first i got to ask which may be a burning question for a lot of people. i know it was for me when i first met you when i heard the subject matter the first thing that popped into my mind is how is she going to address the gun debate, you know, which side does she fall on there\\'s a big entrenched gun culture in this country. obviously, it\\'s embed in this in the say a second amendment the constitution and there\\'s a very big anti-gun culture. so how do you like you know, which side of the fence are you gonna sit on and you don\\'t you kind of you speak to everyone without kind of getting mired in that debate, so it\\'s not people about that. yeah, absolutely because you know, the guns is the first answer that i hear from\"b\"everybody and i do a podcast now also called stop the killing with my co-host who\\'s in london sarah ferris and the very first question that sarah asked me she tracked me down and she said i want to do a podcast with you and i told her no because i didn\\'t have time and then she hounded me until i decided to do a podcast and i only tell you that because that\\'s exactly how she would describe it. and so she said very right away. she just like well, you could solve all this problem with getting rid of the guns in the united states and i said, well my job is work on realistic. problem solving and i actually here in chicago. i teach a class on this culture of the second amendment, so i\\'m very familiar with the with the issues that have to do with the second amendment and and how the how the ebb and flow and this issue is even though there are plenty of people who want to argue guns and who want to argue politics. this issue is is an apolitical\"b\"issue guns is an a political issue when it comes to mass shootings and one of the reasons reasons i would suggest that is last year year before there were 47,000 firearms deaths in the united states 47, 000 roughly two of those were suicides if 40 of those were incidents like this. the second amendment and gun issues is not about mass shootings mass shootings. make up a very small amount. of the shootings in the deaths in the united states whether they\\'re by suicide or violence. but mass shootings kill our psyche they that\\'s the terrorism aspect of it. they are they are so damaging to us and they make us afraid to go to school. they make us afraid to send our let our kid go to the movies and then every time something happens every time a shooting happens. there\\'s a shooting today.\"b\"at a middle school in south carolina greenville, south carolina a 12 year old came to school with a gun and killed 12 year old. that is not about whether or not we have guns in the united states. that is not about whether you support gun control or you oppose gun control or whether you support licensing or registering guns or not. that is about a 12 year old getting a gun in their own hands. so that\\'s about is the gun properly secured. i i raised two wonderful kids. 20 years in the fbi carried all kinds of firearms long guns rifles handguns i secured my guns a third of the guns. the the united states are not secured. that\\'s that\\'s not about whether or not the second amendment supports, you know, whether or not you should support the second amendment. that\\'s about guns is just about the gun aspect of it, which is the chapter in the book on and i was hesitant to write that because i didn\\'t want people to\"b\"think it was all about guns, but i did put a gun chapter in there because i think you need to understand the culture of guns in the united states. you need to understand the history of why we have guns. it\\'s easy for people, you know, the podcast has listeners in new zealand and uk and other places and and people say well it\\'s all about the guns. well, you know, it isn\\'t all about the guns because in the united states, we have a second amendment that allows guns and if my whole solution is we\\'re going to get rid of the guns. then it\\'s a non-starter. and so that\\'s that\\'s really where i come from it is there are so many other things that can be done and when you say it\\'s just this or it\\'s just that you\\'re not looking at the real solutions, i think yeah and in that same chapter, i mean, i think you talked a lot about and when people look at gun violence, they think mental health or it\\'s gone this mental health, right? it\\'s gone and we said it\\'s a lot more multifaceted and just that but you also talked about if you\\'re going to arm someone and you\\'re going to use guns or certain factors if you\\'re gonna you know, if you\\'re thinking\"b\"about our own teachers or people who say, you know, i need to have a gun to protect myself right a and the stats say that you know actually people who don\\'t have guns or tackle people or are preventing more violence. can you talk a little bit about that? yeah the research that we did and there were actually the initial research that we did at the fbi and you know, one of the reasons why i have these things here and i hold them up and one of the reasons why i wrote the book you talked about that earlier, you know, look at these publications fbi fbi american american association a threat assessment professionals the journal for threat assessment management. you guys aren\\'t hanging out with these in your tabletops, right? i mean that\\'s you know, these are not the things that you have and that you keep with you and and that\\'s that\\'s why i wanted to reference them in the book because the book has all of these different things in it that you just can\\'t find online and when it comes to the stats that came out of it one of the things that i found most fascinating because i did\"b\"co-author this study for the fbi. it was our initial study at the fbi. is that the you know, i hear good guy with a gun. i hear get rid of guns. i hear gum free zones people have a lot of opinions. they need to have some facts behind the opinion. so when i wrote the chapters, i wrote them thinking what are the facts the things that i hear that are wrong. or the and gave you the citations for where the research says. so for example in the fbi study that i coauthored there were 160 incidents that we that we identified as these exact types of shootings the same methodology 160 incidents in 21 of those which i\\'m no mathematician, but my friends who are accountants would tell you i think is about 13% and so in 21 of the 160 incidents. unarmed civilians successfully stopped the shooter.\"b\"so that\\'s a huge percentage. 21 of 160 incidents how many people with guns who are joe civilians did that? one one so the right now the data doesn\\'t support the concept of carry a gun run in and shoot somebody who\\'s killing people now. i\\'m telling you that i you know, i i respect and i think we need you know the idea of law enforcement to be aware and what\\'s going on to train school research officers trained security officers. we do have a lot more guns in the united states way lot more guns than we had, you know back when sandy hook occurred. lots more guns, so there are a lot more risks involved, but the data does not in any version support that it is super wise to carry a gun so you can get into a firefight because there are also as many more situations where people have been killed\"b\"because you don\\'t have i mean i spent 20 years trained in law enforcement and you can\\'t imagine the adrenaline that goes to your body as soon as you pull that gun from your holster and so for somebody who has never been in that environment and who hasn\\'t trained as much as law enforcement or hasn\\'t trained as much as the fbi. they\\'re going to get tunnel vision right away. they\\'re going to fire all over the place, and we\\'ve seen it happen. yep to kind of go back to one of the things we started with some of the data and trends reference the study and how mass shooting despite all your efforts and all the work that\\'s been done around. this mass shootings are still increasing. what i thought was interesting is that you referenced that. the trends for violent crime at times to be decreasing. yeah. that that my mind how so how does that happen? why is one going down that they\\'re going up explain the trans, you know, and i think the explain the trend now, i\\'m just drawing on my knowledge. i\\'m not based on statistics, but\"b\"based on my, you know working on this for so many years there is there are certain aspects. we do have a lot more guns in the united states. is that responsible for a trend going up? no because otherwise we\\'d see more violent crime going up, right? so it\\'s not so much that we have more guns. it\\'s not so much that we have. people who are in your question, isn\\'t what is it? not your question is what is it? so, let me just maybe answer that question. i think that some of the things that i think of when i think why are the trends going up and why can\\'t we seem to grapple on get our hands on this? i think we live in a world where you know 50 years ago. we read one newspaper and that we knew everybody who lived around us and we knew all the kids that were in class with and our community and our world was so much smaller and now it\\'s so much broader and because it\\'s so much bigger because there\\'s all social media and 7,000 channels that you can watch on your cable tv, if you don\\'t want to watch one of the streaming services\"b\"and because we traverse a lot more what we have stopped doing is paying attention to the people right next to us. because 80 to 90 percent of every shooter in this type of shooting category telegraphs their intent to shoot and generally 90% of the time they are verbally saying something to somebody the concept of leakage i think leakage, right? that\\'s what we call it leakage. so they\\'re saying this what\\'s going on. and they\\'re saying it to people and people aren\\'t hearing it and they\\'re not hearing it because of whole bunch of reasons right you i mean, they\\'re not part of sometimes they\\'re not hearing it because they don\\'t want to hear it. you don\\'t want to hear that your child is is maybe you know going down the deep end of the tunnel or your your boss is is violent and people say all the time and i say this is any law enforcement officer. we\\'ll tell you every prosecutor who\\'s ever been in court will tell you when you work criminal cases. people say he\\'s never done\"b\"anything like that before. i don\\'t think he would ever do that. i hear that all the time right and you hear that while you\\'re interviewing somebody after somebody\\'s been shot. oh, i can\\'t believe he\\'s done that he\\'s never done that before. well, yeah, no kidding because if he\\'d done it before he\\'d be in jail, right? so so think the logic of it but people want to believe the best in everybody right and and i want to believe the best in my kids and my and my family and my neighbors but maybe people would think differently if they recognize that in these most violent situations two things one is people who commit targeted violence like this. around they do it. they\\'re on a trajectory towards violence. that\\'s what we call it. so they start out with the idea that they might commit this kind of violence and then they start planning and preparing for that violence before the violent act occurs. and then that planning and preparation stage we know from research that that planning and preparation can take days, but\"b\"more likely weeks and very often months and sometimes years. so during that whole time. the people who see them who are around them. those are the people who can stop this. we can\\'t law enforcement a million law enforcement agents agents in the united states officers and agents and chair deputies in the federal state local tribal law enforcement agencies. law enforcements the last one to know peers teachers family members friends and neighbors. that\\'s who has to get this message. that\\'s why i wrote the book. that\\'s why i do the podcast because if you listen to the details of it you\\'ll begin to hear. oh i can see that i can hear that and you recognize so the other factor that i want to tell you about this in addition to this trajectory towards violence is that somewhere between depending on how the how far we look at the research 35 to 40\"b\"percent of these shooters. have the same characteristics the same behaviors. of people who commit suicide because their intent is to commit suicide. so when you think about i should maybe talk to the police or i should call an anonymous tip line about my neighbor because i\\'m not really certain remember that. 35 to 40% of these are suicidal. and if i told you that you should call the police or neighbors about a tip because you thought somebody was going to commit suicide you\\'d say. oh, yeah, i\\'ll do that. so culturally we\\'ve accepted the idea that even if they don\\'t want us to turn them in or make a call. culturally, we\\'ve accepted that we would do that to save somebody from committing suicide. yet we don\\'t do it for this and 35 to 40% of these people committed suicide. they go out with the intent to commit suicide same behaviors. yes, sort of a cultural shift, right? i mean when i when i read the\"b\"book and i think a lot of people when they read it, they might think well the the action the action items and the steps in this problem are at the federal level state level municipal level. it\\'s my hr department. i company. you know, it\\'s everyone and you know, if you see something say something and more you wait, the more about things can happen. absolutely. i mean we\\'ve had i was because i\\'m such a nerd when i was flying out here. i was reading this journal of threat assessment management study and and one of the things it was on a study about leakage, right and warnings and i remember and i write all over right and one of the things that i remember reading was that this is a they went through research coming in from oregon to see whether or not the and how the tip lines the anonymous tip lines were being reported. that\\'s which is a huge invaluable source. you don\\'t want to get involved call it in call it in as a tip an anonymous tip. that\\'s all we\\'re asking you to do because we don\\'t know and in\"b\"this case 58% of the people who who called in they were they were calling in 58% of the people were calling in something that really had to do with kind of bullying. but a small number of people call in about violence and they actually just in the first year of this research in an organ. they had like 1,000 tips 58% of them were for bullying and unkind conduct. that\\'s a trajectory conduct. that conduct goes from it goes from the saying mean words to being mean to bullying that kind of conduct. we know that people who commit this type of mass violence targeted violence. that is so horrific and terrifies our whole neighborhoods. that half of these people have some level of background that might not be criminal charges, but it\\'s going to be something like bullying or being bullied because and then they bully back, you know, people have these ideas of who they think a shooter is and they\\'re they\\'re\"b\"all wrong. i think that\\'s one of things i try to address in the book is you\\'re looking in the wrong you\\'re looking in the wrong direction. oh, okay ask away. yeah, so you really kind of touched on it and the myths of the mass shooter profile and the myth that you described was exact method preconceived notion. i came into the book with it\\'s a white male social outcast awkward quiet lives in his mother\\'s basement yada rights. it\\'s not so explain that yeah, who is the mass shooter the the the kid you just described it\\'s his dad upstairs. it\\'s his dad upstairs watching television after he comes home from work. 35 years old is the average age of a mass shooter like this. 32 years is a mean. but it\\'s the half of these shootings occur in places of business only a quarter occur in place of an educational environments. the place of business are places that are you know, not just you\"b\"know packing houses and law offices, but day salons and you know postal offices and all these other facilities where people go to work every day and they get disgruntled and they start to i call it they they\\'re called in industry. we call them the grievance collectors, right the grievance collectors and they they i always say it\\'s like if you wear a backpack and every time you get mad at somebody you put in other rock in your backpack, and these guys are filling their backpacks up and and i say guys because that\\'s the only demographic that\\'s so far. it\\'s the only demographic that works when we look at the demographics the fbi\\'s research over 20 years had. i can\\'t give you the exact number because i don\\'t remember it. there\\'s so many numbers in my head, but you know. however, 70 some shooters over 20 years 13 were women so we know that almost all of these are male. that doesn\\'t mean that women\"b\"don\\'t do them when they do it. some of them do it with a spouse and the ones who who are the shooters who are female generally are they\\'re shooting their place of employment or their former place of employment. so it\\'s all think about the grievances that you have when you talk about people who are disgruntled employees one of the one of the facts that when we did the research, i my analysts were so not happy with me when i told them i want you to divide the business shootings by into two groups and they\\'re like, well their businesses we can\\'t and i said, yes, you can\\'t because you\\'re brilliant and so you\\'re going to do this so divide them into places that are where the public circulates kind of like think about a grocery store or a mall or a big box store. or park, right? but if it\\'s a place of business. do the does a public transit through that generally or is it a place where it\\'s not the\"b\"public so like a packing house where it\\'s just the employees on site? and when we in or a law office generally just the employees on-site are dentists office, and it\\'s no just common citizens walking through. when we divided those numbers, it was like a light came on when it came to looking at the research which was fun for me because that meant that it was worth me asking them to do it, but the value was that it showed us that when the shooters went up shooting occurs in a place of business. almost virtually every time it is a person who was is an employee or was recently employed and so in the case of this in the case of the fbi\\'s research there were five people who were fired that day or the day before like so okay hr people. you know, how can we stop a shooting if you don\\'t have a policy in place? to to respectfully help a person\"b\"leave his employment or her employment. it\\'s i know that you have a terrible employee and you decide i want this guy to go, but all you\\'re doing is passing your problem on to somebody else because that guy is picking up a rock and putting it in his backpack. and when he picks up that rock and he puts it in his backpack. sometimes he goes to his car and he gets a gun and comes back and we\\'ve seen that happen many times too many times. but sometimes it might mean that an employee takes a you know an employee is is taking offline and they and they give them help to find another job. they give them a couple extra weeks of pay. the average cost of a worker\\'s comp in this kind of situation is 500,000 for one shooting situation for per person per person. this is a very expensive. costly endeavor just from a dollar standpoint for businesses. so if most of these shootings occur in businesses and they\\'re incredibly expensive from a business standpoint some in some instances some estimates.\"b\"i\\'ve read a third of the employees leave a place of employment after shooting like this imagine hiring and retraining a third of your employees. it\\'s business sense, you know think about it and put some time and effort into it. yeah, that\\'s not the way that hr departments. typically let people go it\\'s quick gets abrupt and it\\'s cold and sort of by design and that\\'s okay. that\\'s okay because that\\'s way it was done. but i think that\\'s that\\'s the way it can\\'t be done anymore. i guess that\\'s kind of my my position. it can\\'t be done anymore because we\\'re continuing to see shootings. we\\'re continuing to see them increase in these small areas where we have a we have a very much do not have our fingers on the pulse of who our neighbors are and then when we do see something we just look the other way and you know everybody who lived through 9/11. i was a terrorism supervisor and during 9/11 with the fbi and see something say something became our mantra and we didn\\'t care how many people called us how many people but in this study that i was reading about the\"b\"organ tip line and their annual their their stats for a few years for a year 82% of the people reporting were the only ones who reported on that incident. so 82% of the time there was only a single person reporting on a potential threat or a bullying action. right? so what i\\'m saying is when you think somebody else will call you\\'re wrong. when you think maybe i\\'ll call tomorrow you\\'re wrong you should call right now and get it off of your shoulders and let the professionals handle it. because we didn\\'t have years ago. we didn\\'t have anonymous tip lines everywhere. and now we do we have phone calls text messages safe to tell see something say something is on the east coast, colorado pioneered it after a columbine. it\\'s not a new thing anymore to have tip lines kids can text in the tip and they do and the biggest the most the largest number of anonymous tips that come in are between 4 pm and\"b\"midnight. when kids are home from school 4pm in midnight, and that\\'s not just about school shootings, right? but that\\'s when people are really active active online and they\\'re seeing here and seeing pictures. they\\'re hearing things. yeah speaking of seeing pictures and hearing things that kind of there\\'s a nice segway into the next question. like i said it up or something exactly. i didn\\'t i didn\\'t and she didn\\'t but you do a lot of a lot of space in the book to this and something that we\\'ve talked about. you know, why is this increase in shootings? and there\\'s you know in the last two three decades there\\'s an increase in media and the way we consume it online. it\\'s constant 24/7 news cycles social media texting. it\\'s just possible armed and information. it\\'s it\\'s become packaged. it\\'s almost entertainment in some ways. so you talk about the sort of the contagion effect. and before i stop talking unless you answer the question. there\\'s a quote in your book. i think kind of sums it up. oh really nicely.\"b\"it\\'s a your that puts killers in the spotlight. implicit promise to those on the edge of committing mass violence, so talk a bit about the contagion fact and how that\\'s driving things. yeah, i think when i first started out doing the research, not surprisingly it takes a long time to write a book. that\\'s all fact-based and has lots of studies and research in it. so i was working on the book. i didn\\'t really think about the contagion effect, but you know, even when i started there were so fewer shootings and by the time i finished there were so many more and i want to know why too and i was doing some digging and some research and i found out that there was there was a research project done western australia and old dominion here in the united states did a research of after the sandy hook shooting and this is what really caught my interest. they decided to look at three and a half years of the coverage on abc world news with david\"b\"muir and this is not picking on abc. this is saying this is a very legitimate typical kind of way news coverages. i live in the washington dc region. i\\'ve been engaged and involved with news media for a long time. they\\'re well respected organization and so three and a half years of coverage researching the shootings when abc news would cover a shooting and then the researchers looked at when we\\'re shooting still falling into the same category when we\\'re shootings occurring after the coverage and they found that in the four to ten days after a shooting there were three more shootings. so they concluded this is their language just a back of the envelope calculation 58% of all shootings that occurred in that three and a half years. can could be attributable by cause to the to the news coverage? 58% so it\\'s huge numbers.\"b\"so there was another study that had been done earlier. and and it kind of this this research validated that research and that research had said in the 13 days after a shooting there\\'s an increase in shootings in a 13 year 13 day period so and actually now what we know one that\\'s one of the things that i think when i was at the bureau at the fbi we worked on is asking law enforcement to asking the media to think about the way that they cover and actually i speak about that specific thing. i was just in pittsburgh speaking about it. i\\'m headed out to springfield, illinois to speak about it that very thing is that that contagion factor is there and until we stop giving big coverage and talking and and telling the story of the shooter in such a glorifying way. we\\'re not going to get a hold of that. i think. yeah, it seems kind of tough because and obviously in the modern digital world, you can\"b\"really measure the response to coverage in real time with internet with clicks getting click some more clicks. and so it\\'s got to be hard to convince you organizations to go against that tide. that\\'s true. i\\'ve had that conversation with with producers and with print media and said and they say exactly that they say some of them i yeah, we don\\'t actually at a fascinating conversation. i have two friends one who\\'s the editor of a paper in the midwest and one who works for a major national newspaper. that\\'s you that that\\'s crosses the world and so so i guess you probably know who that is. anyway, so the one of the editors said to me we don\\'t we have long stood the test of time. we do not glorify the shooters. we use their we try to keep their picture off the front page. we use their name once and only once unless they\\'re at trial and we believe that if we tell the story of the shooter that\\'s going to make other shooters shoot perfectly logical. and and certainly understandable the other person said we\\'re a paper of record.\"b\"we have to use the shooter\\'s name. we feel that we need to do that. now. i can tell you that they don\\'t the days of the columbine where we wrote. we did big documentary features on the shooters and the front of time magazine had the columbine shooters on the front of it the front of a whole bunch of magazines those days i think are over hopefully, i hope they are and i\\'ll be the one still out there talking to columbia journalism review and others saying because they\\'re they\\'re aware of this and they know they\\'ve written themselves about the research that\\'s been done and they need to come up with a standard. you know, i i was i was strolling around today at and i i was down at holy name cathedral. again nerd and so they have stuff in the basement. that\\'s kind of historical and there was a story about a priest who was there\\'s a newspaper clipping up on the wall in a cabinet and it was a story about a newspaper a priest who had\"b\"seen a woman he\\'d seen a guy with a purse and he thought that was a little unusual and he asked the guy about it and it was you know in the 50s or something and 60s and and the guy took off running and it turned out he was a purse nature and he the police were there and they happened to catch this guy the newspaper story had the victim\\'s name and address in it. which would never happen today? i would never happen today and the same thing. we i used to be a journalist a hundred years ago, and we wouldn\\'t run the name of a victim of a crime or a rape victim. we don\\'t run a child\\'s name. i think that the newspaper industry the media industry the television they\\'re definitely beginning to get that they need to cover less about the shooter. it\\'s not about the story the shooter wants to tell about himself because i could talk about that for an hour. you know, they write their own narrative and then everybody covers it and the people whose stories we should tell always are the people who are dead who\"b\"can\\'t tell their story right? i think you talk to there\\'s a story you told in the book about shooter and prior to the shooting. he had gone out and collected sort of clippings of other previous shooters, right and not unusual. i think that a great example is even just sandy hook itself the sandy hook shooter had a big up on his walls that the police thought took probably a couple of years for him to fill out detailing all these different shootings. these are not shootings that occur at a moment\\'s notice. that\\'s a different type of violence and a different solution that we have to work on in order to solve that kind of violence. this is targeted violence that young man who did that at sandy hook. was not unusual there are other people that we go into theirs we can track and have sadly tracked our behavioral people at the fbi secret service has done a lot of work on this too their researchers analytical teams and they track people who are fascinated by the columbine\"b\"shooters, and they keep lists of them and put it up on their walls and their bedrooms and they they want to be part of that narrative even if they don\\'t really fit into it they want to fit into something think about somebody wants to be in a gang they want to be in the gang. but in the process of wanting to be in the gang the guy who runs security the guy he\\'s a good way to talk good midwestern term the guy who runs security at the jefferson county sheriff\\'s office, which is where columbine high school is he\\'s a long time friend of mine and their budget last year. i think was six million dollars for security at the school system, six million dollars and the local law enforcement security that supported them was four and a half million. it says 10 million dollars in security because people who admire the columbine killers come to columbine to tell a story they want to be part of that story even though if you listen to the podcast she says plugging it, but honestly if you listen to the podcast because i\"b\"can\\'t do it here. there\\'s so much more detail the columbine killers everything that you think, you know about the columbine killing is wrong. i\\'m just telling you everything is wrong killers. we\\'re not bullied. we\\'re not part of a trenchical mafia group and i think that\\'s the thing about the book. there\\'s so much stuff that people don\\'t know and they don\\'t understand and this in some ways is really simple. it\\'s in some ways the answer is look at the people around you. be prepared to see something and say something right now. look for these behavioral characteristics. they\\'re listed right in the book. they\\'re listed online. you can find them on my website. you don\\'t even have to buy the book, although that\\'s okay. but but you know, there\\'s so much information that\\'s out there, but we just don\\'t really look for it and listen for it and and then we create these narratives of people who think that they\\'re the shooters and they want to be like these other shooters. right and we talked a lot about trends and some of the data and\"b\"profiles and those kind of things but you know, let\\'s talk a little bit about some of the the actionable steps that people can take and you kind of and i\\'ll set up this way. it seems like in your book you kind of broke it out into three main buckets right see something say something and how do you respond in the moment run fight hide and then kind of the third stimming the time, you know stopping the police bleeding, right? i mean, i think everybody should be trained in how to stop bleeding. i mean that\\'s lifesaving whether it\\'s whether it\\'s a shooting or whether or not it\\'s you know a car accident or whether you\\'ve fall off the roof, you know, if you\\'re bleeding out you\\'re going to bleed out so everybody can now be trained in that it\\'s available online. stop the bleed.gov. it\\'s available. you can use tourniquets all that myth about you shouldn\\'t use a tourniquet, you know, unless you\\'re in the wilds of alaska, you know when you can\\'t get to anybody for a long time, but if you\\'re in the wilds of alaska and you\\'re bleeding out better to lose a leg better lose an arm, so nowadays tourniquets. is recommended by the american\"b\"college of surgeons, which it wasn\\'t previously. so definitely that\\'s for if it happens run hide fight. everybody should be trained in that they should understand what that means the concepts of it. it\\'s basic human nature to to when something bad happens flight or fright, right? set them saying that right and you you run you hide or you fight that\\'s exactly why the federal government. that\\'s why we push that i push that through over the department of education\\'s objection and over, you know some questions about is that the right way to teach people in this country. it\\'s the right way to teach people in every country in in england in the uk. they say run high tell because they think fight sounds mean but you know, but that\\'s okay. i mean the idea is run or high. those are the most important things not a lot of people fight right, but sometimes people do they fight with their words. i interviewed a woman who spend an hour and a half talking a middle school student into putting the gun down that he had carried into her office on a\"b\\'school day because he was going to shoot up the school and she used her fight with her words to talk him out of put and put that gun down fights can be a lot of different ways, right and at virginia tech there were 10 people who barricaded a door and hid behind a door that the shooter was going after and after and after, after and never got through virginia tech there was a survivor of the holocaust was teaching in the engineering program and he held the door shut. no locks on any of the doors at virginia tech and this in the end in the in the norris hall. he held the door and and held the door and held the doors to the shooter could get through. that was the way he fought and told his students to jump out the second story windows in every student except one got out the window before he was shot to death. so he chose to fight so you can run and you can hide and you can fight you do all those things at columbine at sandy hook. at sandy hook horrible shooting at sandy hook all those little\\'b\"20 little first graders were killed a horrible situation in the united states. a teacher on one of the classrooms stood between herself and the students and six students were able to escape from a side door out into another area and survive because of that. six students six body six kids alive today who would not have been alive? but the fact that that teacher stepped in front and and distracted and continued to distract so everybody fights in their own way, but you have to you have to know that you\\'re going to have to do it and you have to know what your options are. you know, i know i i ramble on but i\\'m very passionate sometimes about this and i just know that there are so many solutions and people don\\'t stop and think about how i can do that, so i guess i didn\\'t really get to how you prevent it which is the most important part so if i could jump yeah. okay do okay. so because i say that, you know, the book has 14 chapters 10 of\"b\"them are about prevention because it really is about one of my looking for and then how do i report it? and to whom? that\\'s the part that i think that\\'s the part that we fail in miserably in the united states. we don\\'t know the simple things to look for about people if we said what do you look for when somebody\\'s under stress? because they might commit suicide you already halfway there, you know a lot of those things already. those are those are things like your have biggest issues. you have financial troubles. you have mental stress mental health issues. not mental. diagnosis doesn\\'t have to be a diagnosis of some mental disorder. you have mental stressors. you have financial troubles. you have interpersonal problems. problems at work. those are the four biggest factors. we all live with them. we all deal with those all the time. when we find a shooter when the fbi behavioral people did research on it, they found every person had at least three or\"b\"four of those stressors that they were dealing with on a daily basis. so look for people who are in financial trouble look for people who are struggling with depression and mental health issues. not because you think they\\'re all going to be shooters because they need help right and if they happen to be a grievance collector, they\\'re going to be put in rocks in their backpack and that those aren\\'t even necessarily legitimate grievances, you know, it\\'s like you i\\'m mad at you because you took my parking spot and you\\'re like, that\\'s just parking. i didn\\'t even know you were looking for that parking spot, but that guy is putting that rock and his backpack and saying that\\'s a person i want to get to same thing. you don\\'t get promoted. well, you don\\'t get promoted and you go home and complain about it and have a beer with your friends. the other guy doesn\\'t get promoted. he goes out to his car and gets a gun and comes back in. so the people that you\\'re around are the ones who the people around you are the ones who are going to say things and you have to listen for those things and that conduct you really have to\"b\"trust your spidey senses. that\\'s really what it comes down to, you know, when your kids in the other room and it gets really quiet. right, you\\'re like something\\'s up. something\\'s up when you know when you\\'re standing in working at the office and then all of a sudden you kind of what\\'s going on and you look around and there\\'s somebody down at the other end of the room staring down the hallway at you. that little spidey sense. it\\'s the same thing. you\\'ve got to report those things right now because you know, what, if you report them people say, i don\\'t want to get anybody in trouble. i don\\'t want to get involved. i don\\'t think that he\\'s really going to do anything. he\\'s never done that before. right that those are crappy reasons. i\\'m just telling you when it\\'s life and death. those are crappy reasons. put the information take the information off of the burden of your shoulders and put it in the hands of the professionals who hear tips a thousand tips a day, you know a hundred tips at that police department every day. they listen they can weigh it the school threat assessment\"b\"teams the university threat assessment teams. they can weigh the information and they may have information. you don\\'t know anything about and i tell you that is a long time fbi agent. somebody calls us with one little tiny piece of information. and then and then we have like, oh my gosh, that\\'s like the other piece of the puzzle. we didn\\'t know anything about you don\\'t know what else what other puzzle pieces are on the table. so if you don\\'t call, you\\'re not being a very good citizen. you\\'re not being a very good person who is interested in saving the lives of people. even though you want to be it\\'s okay to call law enforcement is not going to run out knock on somebody\\'s door and arrest them because somebody called and said hey, i think this guy is is acting kind of hinky. it doesn\\'t work that way. i mean, it doesn\\'t work that way in the united states. i\\'ll tell you that. yes, sort of like we got to create this culture of you feeling free and open enough to kind of do those things and sort of breaking down those barriers and as a former attorney and someone who\\'s now and sort of\"b\"the legal technology space. you know privacy. problems into play for me and that was one thing that i was thinking about by reading that and of course you immediately taught touched on it by addressing, you know, hit by state privacy laws and said, it\\'s not really concerned. it doesn\\'t really touch that. yeah and put that yeah actually like when you think about private state privacy laws federal privacy laws hippo you know federal hipaa ferpa, which is for education privacy laws. every state has privacy laws. you have standards in your own business. the schools have standards. what is the safest way to protect you when you provide information to somebody from a assault on your privacy like that? you you violated my privacy rights the safest way to do that is to report something to the police because there are there are law enforcement exceptions in every one of those laws if law if there is a belief that law from from law enforcement based on information they receive that there could be a threat to life. privacy goes out the window if\"b\"there could be a threat to life and it should i mean, you know, i\\'m i\\'m gonna go through a door because i\\'d rather as an agent as an fbi agent. i\\'d rather have you sue me than me have somebody behind the door get killed. sure. can you think of any sort of examples of the school or business who\\'s really implemented a reporting system that is incredibly effective everyone sort of bought in. have you seen that kind of happen or is no one really quite there yet? that\\'s a good question. okay. so here\\'s what i would say. there are since columbine. there\\'s no question that safe to tell out in, colorado. has stepped up and been the the center of attention for how to do that. you can look at say it\\'s safe. sa fe with the number two. tell t e l l safe to tell it\\'s an anonymous reporting system, but there are anonymous reporting systems all over the united states now that you can that that fall into place friend of mine runs see something say\"b\"something anonymous reporting system that supported by the efforts that happened after sandy hook for instance and this whole state of pennsylvania just signed on to that this oregon study that i was reading is is because they created a tip line and then they wanted to know the validity of it. and so we have there are tip lines available all over the united states. we\\'re i\\'m in chicago right now. there\\'s a phone number you can call that that i don\\'t have memorized but it\\'s one eight seven seven. something something right? and that\\'s a phone number you can call for anonymous tips. every state has them you just have to look them up and i will tell you this in a backup category. every single person can call the fbi\\'s tip line and talk to a real person or fill out something online and get that information. and if the fbi gets a tip and i\\'m going to tell you because i can hear the naysayers. it\\'s not a perfect system. i mean there are things there are balls that have been dropped and yes, i recognize what happened down in florida, but if\"b\"you called the fbi tip line because you\\'re in connecticut. and you heard about something you saw some pictures that your cousin posted on facebook, whatever whatever making stuff up here and it involves something and you were afraid that there was a threat on a school in san francisco. the fbi would get on the phone and talk to the san francisco school. they passed that information along that\\'s and if you if they called local law enforcement, they do the same thing law enforcement can call to law enforcement all the time. and colorado has done a really great job with that. they\\'re the forefront of teaching kids. they\\'re at the forefront of teaching kids sensibly senseitatively not scaring any kids by far colorado is way ahead of that because they have suffered so many shootings in that area and they\\'re in such a concentrated area. well, i have tons of questions i could talk to you for absolutely hours. but giving that we have about 10 to 15 minutes left. we\\'ll open it up to questions for anyone in the room or anyone\"b\"online has questions in the room. please step up to the microphone if you have a question of good violence in schools and the general public. what advice would you give to parents around the country when it comes to discussing this heavy subject with their kids. yeah, that\\'s a great question. and actually i\\'m embarrassed that i didn\\'t answer that question without even having been asked that i do write in the in the book. i write about my niece who is a parent of three kids going to elementary school and after they had a shooting recently in oxford michigan, which is near detroit near my hometown. she called me and she was like should i send kids to school and how do i talk to the kids? and i think that\\'s a great question that every parent has to have you know, they have to have the answer to i think the answers are first of all, you should know what your school\\'s policies are and you should ask the kids you should you should talk to the kids once you know what your school policies are and you shouldn\\'t be afraid to ask the kids what the school policy what the policies are on how they handle emergency\"b\"response. do they have a plan in case there\\'s a shooting at the school. what if there\\'s a shooting in the neighborhood so, you know with confidence what your kids might face and then second of all most kids in schools. i hear people say all the time. i don\\'t want to talk to my kids about it\\'s scary. well, go talk to a five go talk to a fifth grader and ask them if they know anything about school shootings they do so don\\'t pretend you know, my daughter actually is a middle school teacher and she said to me once when i asked her this very question, she said you tell parents don\\'t put your neuroses on your kid. you\\'re afraid of it. your kids not afraid of it. just give them the information that they need. so every teacher is is trained to teach at a at the level of the of the child\\'s age, i think parents cut their i think parents. don\\'t they cut them their own knowledge short when they don\\'t realize that as they raise a child as they raise their own children. they know how to talk to them in an age-appropriate way. so you talk to your kids in an\"b\"age-appropriate way just like you teach them not to run downstairs and not to run in the street. i mean, it\\'s it\\'s not is that is a potential school shooting which might never happen in your school more frightening than somebody who\\'s get runs over in the runs over because they run into the street. you know, how dangerous it is, right? so you teach your child not to run into the street, but you\\'re afraid of shooting so you won\\'t talk to your kids about safety at schools. you\\'re talking about stranger danger. i hope you\\'re talking to them about, you know kids who you know, you\\'re worried about somebody picking up your kid when they\\'re at the bus stop. it\\'s those are equally frightening subjects, but as a parent you do talk to your kids just invite the conversation and hear what they say. that\\'s what i think i think most often i feel like if a parent listens asks a couple of open-ended questions and then lists what their kids say, you\\'ll know how much they know most of schools many almost all\"'"
      ]
     },
     "execution_count": 19,
     "metadata": {},
     "output_type": "execute_result"
    }
   ],
   "source": [
    "text"
   ]
  },
  {
   "cell_type": "code",
   "execution_count": 23,
   "metadata": {},
   "outputs": [],
   "source": [
    "doc = nlp(text.lower())"
   ]
  },
  {
   "cell_type": "code",
   "execution_count": 24,
   "metadata": {},
   "outputs": [],
   "source": [
    "transcript_ents = [ent.text for ent in doc.ents]"
   ]
  },
  {
   "cell_type": "code",
   "execution_count": 26,
   "metadata": {},
   "outputs": [
    {
     "data": {
      "text/plain": [
       "['sarah ferris', 'sarah', 'joe', 'anyone\"b\"online']"
      ]
     },
     "execution_count": 26,
     "metadata": {},
     "output_type": "execute_result"
    }
   ],
   "source": [
    "[ent.text for ent in doc.ents if ent.label_ == \"PERSON\"]"
   ]
  },
  {
   "cell_type": "code",
   "execution_count": null,
   "metadata": {},
   "outputs": [],
   "source": [
    "for key in names.keys():\n",
    "      #if \" \"+key.lower()+\" \" in text.lower():\n",
    "      transcript = text.lower()\n",
    "      name = key.lower()\n",
    "      doc = nlp(transcript)\n",
    "      transcript_ents = [ent.text for ent in doc.ents]\n",
    "      # if name[0] in transcript:\n",
    "      #     idx = transcript.index(name[0])\n",
    "      #     if check_name(name, idx, transcript):\n",
    "      #if name[0] in transcript and transcript[transcript.index(name[0])+1] == name[1]:\n",
    "      #if key.lower() in text.lower().split():\n",
    "      if name in transcript_ents:\n",
    "            print(\"match\")"
   ]
  }
 ],
 "metadata": {
  "kernelspec": {
   "display_name": "venv",
   "language": "python",
   "name": "python3"
  },
  "language_info": {
   "codemirror_mode": {
    "name": "ipython",
    "version": 3
   },
   "file_extension": ".py",
   "mimetype": "text/x-python",
   "name": "python",
   "nbconvert_exporter": "python",
   "pygments_lexer": "ipython3",
   "version": "3.10.9"
  },
  "orig_nbformat": 4
 },
 "nbformat": 4,
 "nbformat_minor": 2
}
